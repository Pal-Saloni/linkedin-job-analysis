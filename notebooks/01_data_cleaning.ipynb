{
 "cells": [
  {
   "cell_type": "code",
   "execution_count": null,
   "id": "addc8636",
   "metadata": {},
   "outputs": [],
   "source": [
    "# 01-data-cleaning.ipynb\n",
    "# Purpose: Clean and prepare raw LinkedIn job data for analysis\n",
    "\n",
    "import pandas as pd\n",
    "\n",
    "# Load Excel file\n",
    "df = pd.read_excel('linkedin-jobs-africa.xlsx', header=0)\n",
    "\n",
    "# Check initial structure\n",
    "print(df.columns)\n",
    "df.head()\n",
    "\n",
    "# Check missing values\n",
    "df.isnull().mean().sort_values(ascending=False)\n",
    "\n",
    "# Drop irrelevant column with mostly missing values\n",
    "df = df.drop(columns=['SALARY'])\n",
    "\n",
    "# Check missing values again\n",
    "df.isnull().mean().sort_values(ascending=False)\n",
    "\n",
    "# Normalize text fields (lowercase and strip whitespace)\n",
    "for col in ['TITLE', 'COMPANY', 'DESCRIPTION', 'LOCATION']:\n",
    "    df[col] = df[col].astype(str).str.strip().str.lower()\n",
    "\n",
    "# Convert POSTED DATE to datetime\n",
    "df['POSTED DATE'] = pd.to_datetime(df['POSTED DATE'], errors='coerce')\n",
    "\n",
    "# Export cleaned data to CSV\n",
    "df.to_csv('cleaned_jobs.csv', index=False)\n",
    "\n",
    "print(\"Data cleaning complete. File saved as 'cleaned_jobs.csv'\")\n"
   ]
  }
 ],
 "metadata": {},
 "nbformat": 4,
 "nbformat_minor": 5
}
